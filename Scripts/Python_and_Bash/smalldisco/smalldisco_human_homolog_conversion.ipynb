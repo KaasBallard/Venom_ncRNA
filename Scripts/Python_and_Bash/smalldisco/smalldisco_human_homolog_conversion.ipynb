{
 "cells": [
  {
   "cell_type": "code",
   "execution_count": 12,
   "metadata": {},
   "outputs": [],
   "source": [
    "'''The point of this file is to convert all the sirna_name's in the smalldisco outputs to human homologs found in the converted names file.'''\n",
    "\n",
    "# Import pandas and os\n",
    "import pandas as pd\n",
    "import os\n",
    "\n",
    "# Create a dataframe for the .txt\n",
    "converter_df = pd.read_csv('/home/administrator/Documents/Kaas/Venom_ncRNA_project/Usable_data/Genome_files/Cvv_GTF_to_converted_names_05.22.23.txt', sep='\\t')\n",
    "\n",
    "# All of the bed files to be converted\n",
    "bed_files = [\n",
    "    '/home/administrator/Documents/Kaas/Venom_ncRNA_project/Results/smalldisco/sirna_11-20-23/RVG_5S/RVG_5S_trim.bed',\n",
    "    '/home/administrator/Documents/Kaas/Venom_ncRNA_project/Results/smalldisco/sirna_11-20-23/RVG_6S/RVG_6S_trim.bed',\n",
    "    '/home/administrator/Documents/Kaas/Venom_ncRNA_project/Results/smalldisco/sirna_11-20-23/RVG_7S/RVG_7S_trim.bed',\n",
    "    '/home/administrator/Documents/Kaas/Venom_ncRNA_project/Results/smalldisco/sirna_11-20-23/RVG_12S/RVG_12S_trim.bed'\n",
    "]\n",
    "\n",
    "# Loop through files to be converted\n",
    "for bed in bed_files:\n",
    "    # Data fram for each file that gets looped through:\n",
    "    sirna_df = pd.read_csv(bed, sep='\\t', comment='#', header=None, names=['chrom', 'start', 'end', 'sirna_name', 'score', 'strand', 'num_reads'], skiprows=1)\n",
    "\n",
    "    # Function to extract the matching entry from the converter_df\n",
    "    def Get_Matching_siRNA (sirna_name):\n",
    "        # Extract the unique part by removing the prefix and suffix\n",
    "        shared_entry = sirna_name.replace('sirna_', '').replace('_01', '')\n",
    "    \n",
    "        # Find the matching entry in the converter_df\n",
    "        match = converter_df[converter_df['gtf_gene'].str.contains(shared_entry)]['converted_id_no_dups']\n",
    "    \n",
    "        # Return the first matching entry, or None if not found\n",
    "        return match.iloc[0] if not match.empty else None\n",
    "    \n",
    "    # Apply the function to replace sirna_name with converted_id_no_dups\n",
    "    sirna_df.insert(4, 'converted_id_no_dups', sirna_df['sirna_name'].apply(Get_Matching_siRNA))\n",
    "\n",
    "    # Save the converted .bed to a new file in the same directory.\n",
    "    out_path = os.path.join(os.path.dirname(bed), os.path.basename(bed).replace('.bed', '_converted.bed'))\n",
    "    sirna_df.to_csv(out_path, sep='\\t', header=True, index=False)\n"
   ]
  }
 ],
 "metadata": {
  "kernelspec": {
   "display_name": "biopython",
   "language": "python",
   "name": "python3"
  },
  "language_info": {
   "codemirror_mode": {
    "name": "ipython",
    "version": 3
   },
   "file_extension": ".py",
   "mimetype": "text/x-python",
   "name": "python",
   "nbconvert_exporter": "python",
   "pygments_lexer": "ipython3",
   "version": "3.12.0"
  }
 },
 "nbformat": 4,
 "nbformat_minor": 2
}
