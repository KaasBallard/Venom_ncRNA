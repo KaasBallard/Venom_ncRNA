{
 "cells": [
  {
   "cell_type": "code",
   "execution_count": 6,
   "metadata": {},
   "outputs": [],
   "source": [
    "import pandas as pd\n",
    "import os\n",
    "\n",
    "'''\n",
    "The point of this file is to convert miranda's tab formated outputs (converted from the miRanda_output_formating_top50K.sh and miRanda_output_formating.sh) into .bed files.\n",
    "'''\n",
    "\n",
    "# Create a array of for the tab files to be converted to a .bed\n",
    "tab_files = [\n",
    "    '/home/administrator/Documents/Kaas/Venom_ncRNA_project/Results/miRanda/miRanda_mature_11-18-23/RVG_5S_trim_mir_miranda_top50k_output.tab',\n",
    "    '/home/administrator/Documents/Kaas/Venom_ncRNA_project/Results/miRanda/miRanda_mature_11-18-23/RVG_5S_trim_mir_miranda_output.tab',\n",
    "    '/home/administrator/Documents/Kaas/Venom_ncRNA_project/Results/miRanda/miRanda_mature_11-18-23/RVG_6S_trim_mir_miranda_top50k_output.tab',\n",
    "    '/home/administrator/Documents/Kaas/Venom_ncRNA_project/Results/miRanda/miRanda_mature_11-18-23/RVG_6S_trim_mir_miranda_output.tab',\n",
    "    '/home/administrator/Documents/Kaas/Venom_ncRNA_project/Results/miRanda/miRanda_mature_11-18-23/RVG_7S_trim_mir_miranda_top50k_output.tab',\n",
    "    '/home/administrator/Documents/Kaas/Venom_ncRNA_project/Results/miRanda/miRanda_mature_11-18-23/RVG_7S_trim_mir_miranda_output.tab',\n",
    "    '/home/administrator/Documents/Kaas/Venom_ncRNA_project/Results/miRanda/miRanda_mature_11-18-23/RVG_12S_trim_mir_miranda_top50k_output.tab',\n",
    "    '/home/administrator/Documents/Kaas/Venom_ncRNA_project/Results/miRanda/miRanda_mature_11-18-23/RVG_12S_trim_mir_miranda_output.tab'\n",
    "]\n",
    "\n",
    "# Create a loop that converts all of the files.\n",
    "for tab_file in tab_files:\n",
    "    # Create a data frame to read the miranda tab-formatted output\n",
    "    mir_df = pd.read_csv(tab_file, sep='\\t')\n",
    "\n",
    "    # Create variables for storing chrom info\n",
    "    mir_df['chrom'] = mir_df['Seq2'].apply(lambda x: x.split(':')[-2].split('.')[-1])\n",
    "    mir_df['chromStart'] = mir_df['Seq2'].apply(lambda x: int(x.split(':')[-1].split('-')[0]))\n",
    "    mir_df['chromEnd'] = mir_df['Seq2'].apply(lambda x: int(x.split(':')[-1].split('-')[1].split('(')[0]))\n",
    "\n",
    "    # Print intermediate results for troubleshooting\n",
    "    #print(mir_df[['Seq1', 'chrom', 'chromStart', 'chromEnd']])\n",
    "\n",
    "    # Create a new data frame with only the updated names\n",
    "    bed_mir_df = mir_df[['chrom', 'chromStart', 'chromEnd']]\n",
    "\n",
    "    # Create an output path to the directory that these new files should be put in.\n",
    "    out_path = os.path.join(os.path.dirname(tab_file), os.path.basename(tab_file).replace('.tab', '.bed'))\n",
    "    # Save the data frame to a new file\n",
    "    bed_mir_df.to_csv(out_path, sep='\\t', header=True, index=False)"
   ]
  }
 ],
 "metadata": {
  "kernelspec": {
   "display_name": "biopython",
   "language": "python",
   "name": "python3"
  },
  "language_info": {
   "codemirror_mode": {
    "name": "ipython",
    "version": 3
   },
   "file_extension": ".py",
   "mimetype": "text/x-python",
   "name": "python",
   "nbconvert_exporter": "python",
   "pygments_lexer": "ipython3",
   "version": "3.12.0"
  }
 },
 "nbformat": 4,
 "nbformat_minor": 2
}
