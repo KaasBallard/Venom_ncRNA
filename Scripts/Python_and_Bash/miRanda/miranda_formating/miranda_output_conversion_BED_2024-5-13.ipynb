{
 "cells": [
  {
   "cell_type": "code",
   "execution_count": 1,
   "metadata": {},
   "outputs": [],
   "source": [
    "import pandas as pd\n",
    "import os\n",
    "\n",
    "\n",
    "'''\n",
    "#### Step7 #### \n",
    "The point of this file is to convert miranda's tab formated outputs (converted from the miRanda_output_formating_2024-3-30.sh) into .bed files. The\n",
    "second sequence needs to be extracted so that we know the location of the target site.\n",
    "The previous step in the pipeline is: miRanda_output_formating_2024-5-13.sh (/home/administrator/Documents/Kaas/Venom_ncRNA_project/Scripts/miRanda/miranda_formating/miRanda_output_formating_2024-5-13.sh)\n",
    "The next steps in the pipeline are: 3UTR_gtf_generation_2024-5-13.sh (/home/administrator/Documents/Kaas/Venom_ncRNA_project/Scripts/GTF_generation/2024-5-13/3UTR_gtf_generation_2024-5-13.sh)\n",
    "                                       5UTR_gtf_generation_2024-5-13.sh (/home/administrator/Documents/Kaas/Venom_ncRNA_project/Scripts/GTF_generation/2024-5-13/5UTR_gtf_generation_2024-5-13.sh)\n",
    "                                       Exon_gtf_generation_2024-5-13.sh (/home/administrator/Documents/Kaas/Venom_ncRNA_project/Scripts/GTF_generation/2024-5-13/Exon_gtf_generation_2024-5-13.sh)\n",
    "'''\n",
    "\n",
    "# Create a array of for the tab files to be converted to a .bed\n",
    "tab_files = [\n",
    "    '/home/administrator/Documents/Kaas/Venom_ncRNA_project/Results/miRanda/miRanda_2024-5-13/Cvv_2017_genome_with_myos_CDS_miranda_miRNA_targets.tab',\n",
    "    '/home/administrator/Documents/Kaas/Venom_ncRNA_project/Results/miRanda/miRanda_2024-5-13/Cvv_2017_genome_with_myos_five_prime_utr_miranda_miRNA_targets.tab',\n",
    "    '/home/administrator/Documents/Kaas/Venom_ncRNA_project/Results/miRanda/miRanda_2024-5-13/Cvv_2017_genome_with_myos_three_prime_utr_miranda_miRNA_targets.tab'\n",
    "]"
   ]
  },
  {
   "cell_type": "code",
   "execution_count": 2,
   "metadata": {},
   "outputs": [],
   "source": [
    "\n",
    "# Create a loop that converts all of the files.\n",
    "for tab_file in tab_files:\n",
    "    # Create a data frame to read the miranda tab-formatted output\n",
    "    mir_df = pd.read_csv(tab_file, sep='\\t')\n",
    "\n",
    "    # Create variables for storing chrom info\n",
    "    mir_df['chrom'] = mir_df['Seq2'].apply(lambda x: x.split(':')[-2].split('.')[-1])\n",
    "    mir_df['chromStart'] = mir_df['Seq2'].apply(lambda x: int(x.split(':')[-1].split('-')[0]))\n",
    "    mir_df['chromEnd'] = mir_df['Seq2'].apply(lambda x: int(x.split(':')[-1].split('-')[1].split('(')[0]))\n",
    "\n",
    "    # Print intermediate results for troubleshooting\n",
    "    #print(mir_df[['Seq1', 'chrom', 'chromStart', 'chromEnd']])\n",
    "\n",
    "    # Create a new data frame with only the updated names\n",
    "    bed_mir_df = mir_df[['chrom', 'chromStart', 'chromEnd']]\n",
    "\n",
    "    # Create an output path to the directory that these new files should be put in.\n",
    "    out_path = os.path.join(os.path.dirname(tab_file), os.path.basename(tab_file).replace('.tab', '.bed'))\n",
    "    # Save the data frame to a new file\n",
    "    bed_mir_df.to_csv(out_path, sep='\\t', header=True, index=False)"
   ]
  }
 ],
 "metadata": {
  "kernelspec": {
   "display_name": "biopython",
   "language": "python",
   "name": "python3"
  },
  "language_info": {
   "codemirror_mode": {
    "name": "ipython",
    "version": 3
   },
   "file_extension": ".py",
   "mimetype": "text/x-python",
   "name": "python",
   "nbconvert_exporter": "python",
   "pygments_lexer": "ipython3",
   "version": "3.12.2"
  }
 },
 "nbformat": 4,
 "nbformat_minor": 2
}
