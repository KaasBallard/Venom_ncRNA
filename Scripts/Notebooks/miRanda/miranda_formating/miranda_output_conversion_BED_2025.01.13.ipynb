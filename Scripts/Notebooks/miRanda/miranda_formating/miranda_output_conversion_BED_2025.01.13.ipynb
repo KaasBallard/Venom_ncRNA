{
 "cells": [
  {
   "cell_type": "markdown",
   "metadata": {},
   "source": [
    "### Step 7 - Converting tab files to BED format\n",
    "The point of this file is to convert miranda's tab formated outputs (converted from the miRanda_output_formating_2025.01.13.sh) into BED files. The\n",
    "second sequence needs to be extracted so that we know the location of the target site.\n",
    "\n",
    "Previous step: miRanda_output_formating_2025.01.13.sh (/home/administrator/Documents/Kaas/Venom_ncRNA_project/Scripts/miRanda/miranda_formating/miRanda_output_formating_2025.01.13.sh)\n",
    "\n",
    "Next step: 3UTR_gtf_generation_2024-5-13.sh (/home/administrator/Documents/Kaas/Venom_ncRNA_project/Scripts/GTF_generation/2024-5-13/3UTR_gtf_generation_2024-5-13.sh)\n",
    "\n",
    "5UTR_gtf_generation_2024-5-13.sh (/home/administrator/Documents/Kaas/Venom_ncRNA_project/Scripts/GTF_generation/2024-5-13/5UTR_gtf_generation_2024-5-13.sh)\n",
    "\n",
    "Exon_gtf_generation_2024-5-13.sh (/home/administrator/Documents/Kaas/Venom_ncRNA_project/Scripts/GTF_generation/2024-5-13/Exon_gtf_generation_2024-5-13.sh)"
   ]
  },
  {
   "cell_type": "code",
   "execution_count": 4,
   "metadata": {},
   "outputs": [
    {
     "name": "stdout",
     "output_type": "stream",
     "text": [
      "Success: miRanda output files found. The following will be processed:\n",
      "/home/administrator/Documents/Kaas/Venom_ncRNA_project/Results/miRanda/miRanda_2025-01-12/Crotalus_viridis_reference_CDS_miranda_miRNA_targets.tab\n",
      "/home/administrator/Documents/Kaas/Venom_ncRNA_project/Results/miRanda/miRanda_2025-01-12/consensus_CV1087_viridis_North_F_five_prime_utr_miranda_miRNA_targets.tab\n",
      "/home/administrator/Documents/Kaas/Venom_ncRNA_project/Results/miRanda/miRanda_2025-01-12/consensus_CV0985_concolor_Other_F_CDS_miranda_miRNA_targets.tab\n",
      "/home/administrator/Documents/Kaas/Venom_ncRNA_project/Results/miRanda/miRanda_2025-01-12/consensus_CV1082_viridis_South_M_three_prime_utr_miranda_miRNA_targets.tab\n",
      "/home/administrator/Documents/Kaas/Venom_ncRNA_project/Results/miRanda/miRanda_2025-01-12/consensus_CV0857_viridis_North_M_three_prime_utr_miranda_miRNA_targets.tab\n",
      "/home/administrator/Documents/Kaas/Venom_ncRNA_project/Results/miRanda/miRanda_2025-01-12/consensus_CV1082_viridis_South_M_CDS_miranda_miRNA_targets.tab\n",
      "/home/administrator/Documents/Kaas/Venom_ncRNA_project/Results/miRanda/miRanda_2025-01-12/consensus_CV1087_viridis_North_F_CDS_miranda_miRNA_targets.tab\n",
      "/home/administrator/Documents/Kaas/Venom_ncRNA_project/Results/miRanda/miRanda_2025-01-12/consensus_CV1086_viridis_South_M_five_prime_utr_miranda_miRNA_targets.tab\n",
      "/home/administrator/Documents/Kaas/Venom_ncRNA_project/Results/miRanda/miRanda_2025-01-12/consensus_CV0985_concolor_Other_F_three_prime_utr_miranda_miRNA_targets.tab\n",
      "/home/administrator/Documents/Kaas/Venom_ncRNA_project/Results/miRanda/miRanda_2025-01-12/consensus_CV0857_viridis_North_M_CDS_miranda_miRNA_targets.tab\n",
      "/home/administrator/Documents/Kaas/Venom_ncRNA_project/Results/miRanda/miRanda_2025-01-12/consensus_CV1081_viridis_Mid_M_five_prime_utr_miranda_miRNA_targets.tab\n",
      "/home/administrator/Documents/Kaas/Venom_ncRNA_project/Results/miRanda/miRanda_2025-01-12/consensus_CV0857_viridis_North_M_five_prime_utr_miranda_miRNA_targets.tab\n",
      "/home/administrator/Documents/Kaas/Venom_ncRNA_project/Results/miRanda/miRanda_2025-01-12/consensus_CV1087_viridis_North_F_three_prime_utr_miranda_miRNA_targets.tab\n",
      "/home/administrator/Documents/Kaas/Venom_ncRNA_project/Results/miRanda/miRanda_2025-01-12/consensus_CV0987_lutosus_Other_F_three_prime_utr_miranda_miRNA_targets.tab\n",
      "/home/administrator/Documents/Kaas/Venom_ncRNA_project/Results/miRanda/miRanda_2025-01-12/consensus_CV1081_viridis_Mid_M_three_prime_utr_miranda_miRNA_targets.tab\n",
      "/home/administrator/Documents/Kaas/Venom_ncRNA_project/Results/miRanda/miRanda_2025-01-12/consensus_CV0985_concolor_Other_F_five_prime_utr_miranda_miRNA_targets.tab\n",
      "/home/administrator/Documents/Kaas/Venom_ncRNA_project/Results/miRanda/miRanda_2025-01-12/consensus_CV0987_lutosus_Other_F_five_prime_utr_miranda_miRNA_targets.tab\n",
      "/home/administrator/Documents/Kaas/Venom_ncRNA_project/Results/miRanda/miRanda_2025-01-12/consensus_CV1086_viridis_South_M_CDS_miranda_miRNA_targets.tab\n",
      "/home/administrator/Documents/Kaas/Venom_ncRNA_project/Results/miRanda/miRanda_2025-01-12/consensus_CV0987_lutosus_Other_F_CDS_miranda_miRNA_targets.tab\n",
      "/home/administrator/Documents/Kaas/Venom_ncRNA_project/Results/miRanda/miRanda_2025-01-12/consensus_CV1081_viridis_Mid_M_CDS_miranda_miRNA_targets.tab\n",
      "/home/administrator/Documents/Kaas/Venom_ncRNA_project/Results/miRanda/miRanda_2025-01-12/Crotalus_viridis_reference_five_prime_utr_miranda_miRNA_targets.tab\n",
      "/home/administrator/Documents/Kaas/Venom_ncRNA_project/Results/miRanda/miRanda_2025-01-12/Crotalus_viridis_reference_three_prime_utr_miranda_miRNA_targets.tab\n",
      "/home/administrator/Documents/Kaas/Venom_ncRNA_project/Results/miRanda/miRanda_2025-01-12/consensus_CV1086_viridis_South_M_three_prime_utr_miranda_miRNA_targets.tab\n",
      "/home/administrator/Documents/Kaas/Venom_ncRNA_project/Results/miRanda/miRanda_2025-01-12/consensus_CV1082_viridis_South_M_five_prime_utr_miranda_miRNA_targets.tab\n"
     ]
    }
   ],
   "source": [
    "# Import modules\n",
    "import pandas as pd\n",
    "import polars as pl\n",
    "import os\n",
    "from pathlib import Path\n",
    "\n",
    "# Set the directory for all of the tab files\n",
    "miranda_dir = Path('/home/administrator/Documents/Kaas/Venom_ncRNA_project/Results/miRanda/miRanda_2025-01-12')\n",
    "\n",
    "# Create a array of for the tab files to be converted to a BED\n",
    "miranda_tabs = list(miranda_dir.glob('*.tab'))\n",
    "\n",
    "# Check if the files were found\n",
    "if not miranda_tabs:\n",
    "    print(f\"Error: No miRanda output files found in {miranda_dir}\")\n",
    "else:\n",
    "    print(\"Success: miRanda output files found. The following will be processed:\")\n",
    "    for file in miranda_tabs:\n",
    "        print(file)"
   ]
  },
  {
   "cell_type": "code",
   "execution_count": 8,
   "metadata": {},
   "outputs": [],
   "source": [
    "# Create a function that when given a file path it formats the file to BED format\n",
    "def tab_to_bed(file_path):\n",
    "    # Create a data frame to read the miRanda tab-formatted output\n",
    "    df = pl.read_csv(file_path, separator=\"\\t\")\n",
    "\n",
    "    # Format the data frame with Polars\n",
    "    bed_df = (\n",
    "        df.with_columns(\n",
    "            # Create a new column named 'chrom'\n",
    "            (pl.col('Seq2').str.split(\":\").list.get(0)\n",
    "                .alias('chrom')),\n",
    "\n",
    "            # Create a new column named 'chromStart' (cast to FixedSizeList of 1 element)\n",
    "            (pl.col('Seq2').str.split(':').list.get(1)\n",
    "                .str.split('-').list.get(0)\n",
    "                .alias('chromStart')),\n",
    "\n",
    "            # Create a new column named 'chromEnd' (cast to FixedSizeList of 1 element)\n",
    "            (pl.col('Seq2').str.split(':').list.get(1)\n",
    "                .str.split('-').list.get(1)\n",
    "                .alias('chromEnd'))\n",
    "        )\n",
    "        # Select the columns typically found in a BED file\n",
    "        .select(pl.col('chrom'), pl.col('chromStart'), pl.col('chromEnd'))\n",
    "    )\n",
    "    return bed_df"
   ]
  },
  {
   "cell_type": "code",
   "execution_count": 9,
   "metadata": {},
   "outputs": [],
   "source": [
    "# Run the above function in a for loop that will create the new BED files\n",
    "for tab_file in miranda_tabs:\n",
    "    # Run the function to get a new data formated data frame\n",
    "    mir_df = tab_to_bed(tab_file)\n",
    "\n",
    "    # Create an output path to the directory that these new files should be put in.\n",
    "    out_path = os.path.join(os.path.dirname(tab_file), os.path.basename(tab_file).replace('.tab', '.bed'))\n",
    "    \n",
    "    # Save the data frame to the new file path\n",
    "    mir_df.write_csv(\n",
    "        file = out_path,\n",
    "        separator = '\\t',\n",
    "        include_header = True\n",
    "    )"
   ]
  }
 ],
 "metadata": {
  "kernelspec": {
   "display_name": "biopython",
   "language": "python",
   "name": "python3"
  },
  "language_info": {
   "codemirror_mode": {
    "name": "ipython",
    "version": 3
   },
   "file_extension": ".py",
   "mimetype": "text/x-python",
   "name": "python",
   "nbconvert_exporter": "python",
   "pygments_lexer": "ipython3",
   "version": "3.12.8"
  }
 },
 "nbformat": 4,
 "nbformat_minor": 2
}
