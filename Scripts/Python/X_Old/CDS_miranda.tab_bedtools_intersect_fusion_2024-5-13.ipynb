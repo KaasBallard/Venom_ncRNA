{
 "cells": [
  {
   "cell_type": "markdown",
   "metadata": {},
   "source": [
    "Step9c\n",
    "Date: May 13, 2024\n",
    "Purpose: The purpose of this file is to merge bedtools_intersect_Cvv_2017_genome_with_myos_CDS_miranda_miRNA_targets.bed (/home/administrator/Documents/Kaas/Venom_ncRNA_project/Results/miRanda/miRanda_2024-5-13/bedtools_intersect_Cvv_2017_genome_with_myos_CDS_miranda_miRNA_targets.bed) with the Cvv_2017_genome_with_myos_CDS_miranda_miRNA_targets.tab (/home/administrator/Documents/Kaas/Venom_ncRNA_project/Results/miRanda/miRanda_2024-5-13/Cvv_2017_genome_with_myos_CDS_miranda_miRNA_targets.tab) file to increase the amount of info we have.\n",
    "The previous step in the pipeline is: miranda_bedtools_intersect_2024-5-13.sh (/home/administrator/Documents/Kaas/Venom_ncRNA_project/Scripts/BEDtools/Intersect/miranda_bedtools_intersect_2024-5-13.sh)\n",
    "The next step in the pipeline is: blast_miRBase_alignment_2024-5-13.sh (/home/administrator/Documents/Kaas/Venom_ncRNA_project/Scripts/blast/blast_miRBase_alignment_2024-5-13.sh)"
   ]
  },
  {
   "cell_type": "code",
   "execution_count": 1,
   "metadata": {},
   "outputs": [],
   "source": [
    "# Import needed packages\n",
    "import pandas as pd\n",
    "import re"
   ]
  },
  {
   "cell_type": "code",
   "execution_count": 2,
   "metadata": {},
   "outputs": [],
   "source": [
    "# Read the miranda_mir.fasta.tab file as a dataframe\n",
    "miranda_df = pd.read_csv('/home/administrator/Documents/Kaas/Venom_ncRNA_project/Results/miRanda/miRanda_2024-5-13/Cvv_2017_genome_with_myos_CDS_miranda_miRNA_targets.tab', sep='\\t')\n",
    "# Rename the columns of the miranda_df\n",
    "miranda_df.columns = ['miRNA Sequence (Mature)', 'miRNA Target Sequence', 'Total Score', 'Total Energy', 'Max Score', 'Max Energy', 'Strand', 'Length of miRNA', 'Length of miRNA Target', 'Positions']\n",
    "\n",
    "# Drop rows that are duplicates\n",
    "miranda_df.drop_duplicates(inplace=True)\n",
    "\n",
    "# Extract miRNA Sequnce info\n",
    "# Add a new column 'miRNA Cluster' and extract the 'miRNA Cluster' information from 'miRNA Sequence'\n",
    "miranda_df['miRNA Cluster'] = miranda_df['miRNA Sequence (Mature)'].str.split('.').str[0]\n",
    "# Add a new column 'Maturity' and extract the 'Maturity' information from 'miRNA Sequence'\n",
    "miranda_df['Maturity'] = miranda_df['miRNA Sequence (Mature)'].str.split('.').str[1].str.split('::').str[0]\n",
    "# Add new column for 'miRNA Sequence Chrom'\n",
    "miranda_df['miRNA Sequence Chrom'] = miranda_df['miRNA Sequence (Mature)'].str.split('::').str[1].str.split(':').str[0]\n",
    "# Add new column for \"miRNA Start\"\n",
    "miranda_df['miRNA Start'] = miranda_df['miRNA Sequence (Mature)'].str.extract(r':(\\d+)-').astype(int)\n",
    "# Add new column for \"miRNA End\"\n",
    "miranda_df['miRNA End'] = miranda_df['miRNA Sequence (Mature)'].str.extract(r'-(\\d+)').astype(int)\n",
    "# Add new column for \"miRNA Strandedness\"\n",
    "miranda_df['miRNA Strandedness'] = miranda_df['miRNA Sequence (Mature)'].str.split('(').str[1].str.split(')').str[0]\n",
    "\n",
    "# Extract Target Sequence info\n",
    "# Add new column for 'miRNA Target Chrom'\n",
    "miranda_df['miRNA Target Chrom'] = miranda_df['miRNA Target Sequence'].str.split(':').str[0]\n",
    "# Add new column for \"miRNA Target Start\"\n",
    "miranda_df['miRNA Target Start'] = miranda_df['miRNA Target Sequence'].str.extract(r':(\\d+)-').astype(int)\n",
    "# Add new column for \"miRNA Target End\"\n",
    "#miranda_df['miRNA Target End'] = miranda_df['miRNA Target Sequence'].str.extract(r'-(\\d+)').astype(int) # This doesn't work for myotoxin, the 10 from PE-reconstructed-10x-myo gets taken instead of the end number.\n",
    "miranda_df['miRNA Target End'] = miranda_df['miRNA Target Sequence'].str.extract(r'-(\\d+)$').astype(int)\n",
    "\n",
    "# Move the columns\n",
    "column_order = ['miRNA Sequence (Mature)', 'miRNA Cluster', 'Maturity', 'miRNA Sequence Chrom', 'miRNA Start', 'miRNA End', 'miRNA Strandedness', 'miRNA Target Sequence', 'miRNA Target Chrom', 'miRNA Target Start', 'miRNA Target End', 'Total Score', 'Total Energy', 'Max Score', 'Max Energy', 'Strand', 'Length of miRNA', 'Length of miRNA Target', 'Positions']\n",
    "miranda_df = miranda_df[column_order]\n",
    "\n",
    "# Display the first few rows to verify the result\n",
    "#print(miranda_df.head())"
   ]
  },
  {
   "cell_type": "code",
   "execution_count": 5,
   "metadata": {},
   "outputs": [],
   "source": [
    "# Read the bedtools_intersect file as a dataframe\n",
    "bedtools_df = pd.read_csv('/home/administrator/Documents/Kaas/Venom_ncRNA_project/Results/miRanda/miRanda_2024-5-13/bedtools_intersect_Cvv_2017_genome_with_myos_CDS_miranda_miRNA_targets.bed', sep='\\t', header=None)\n",
    "\n",
    "# Rename the columns of the bedtools_df\n",
    "bedtools_df.columns = ['Genome Chrom', 'Assembler', 'Feature type', 'Genome Start', 'Genome End', 'Unk1', 'Genome Strandedness', 'Unk3', 'GTF ID Info', 'miRNA Target Chrom', 'miRNA Target Start', 'miRNA Target End']\n",
    "\n",
    "# Define a function to parse the GTF ID Info column\n",
    "def parse_gtf_info(cell_info):\n",
    "    parsed_info = {}\n",
    "    pairs = cell_info.split(';')\n",
    "    for pair in pairs:\n",
    "        if pair.strip():  # Skip empty pairs\n",
    "            key, value = pair.strip().split(' ', 1)\n",
    "            parsed_info[key.strip()] = value.strip()\n",
    "    return parsed_info\n",
    "\n",
    "# Use the function on the 'GTF ID Info' column in order to extract the information\n",
    "bedtools_df['gtf_info_dict'] = bedtools_df['GTF ID Info'].apply(parse_gtf_info)\n",
    "\n",
    "# Get all unique keys from the parsed dictionaries\n",
    "all_keys = set()\n",
    "for info_dict in bedtools_df['gtf_info_dict']:\n",
    "    all_keys.update(info_dict.keys())\n",
    "\n",
    "# Iterate over all unique keys and add them as new columns\n",
    "for key in all_keys:\n",
    "    bedtools_df[key] = bedtools_df['gtf_info_dict'].apply(lambda x: x.get(key))\n",
    "\n",
    "# Drop the original 'GTF ID Info' column and the intermediate 'gtf_info_dict' column\n",
    "bedtools_df.drop(columns=['gtf_info_dict'], inplace=True)\n",
    "\n",
    "# Display the updated dataframe\n",
    "#print(bedtools_df.head())\n",
    "\n",
    "# Define new column order\n",
    "new_column_order = ['Genome Chrom', 'Assembler', 'Feature type', 'Genome Start', 'Genome End', 'Unk1', 'Genome Strandedness', 'Unk3', 'GTF ID Info', 'gene_id', 'transcript_id', 'ID', 'Parent', 'Anolis_Blast_Type', 'Anolis_Homolog', 'Crovir_Transcript_ID', 'Python_Blast_Type', 'Python_Homolog', 'Thamnophis_Blast_Type', 'Thamnophis_Homolog', 'miRNA Target Chrom', 'miRNA Target Start', 'miRNA Target End']\n",
    "\n",
    "# Reorder the columns\n",
    "bedtools_df = bedtools_df[new_column_order]\n",
    "\n",
    "# Define a function to remove quotation marks\n",
    "def remove_quotation_marks(cell):\n",
    "    if isinstance(cell, str):\n",
    "        return cell.replace('\"', '')\n",
    "    else:\n",
    "        return cell\n",
    "\n",
    "# Apply the function to all columns except 'GTF ID Info'\n",
    "bedtools_df.loc[:, bedtools_df.columns != 'GTF ID Info'] = bedtools_df.loc[:, bedtools_df.columns != 'GTF ID Info'].map(remove_quotation_marks)\n",
    "\n",
    "# Drop rows that are exactly the same\n",
    "bedtools_df.drop_duplicates(inplace=True)\n",
    "\n",
    "#print(bedtools_df.head())"
   ]
  },
  {
   "cell_type": "code",
   "execution_count": 6,
   "metadata": {},
   "outputs": [],
   "source": [
    "\n",
    "# Concatenate the two dataframes along the columns\n",
    "bedtools_miRanda_tab_merged_df = pd.merge(miranda_df, bedtools_df, on=['miRNA Target Chrom', 'miRNA Target Start', 'miRNA Target End'], how='inner')"
   ]
  },
  {
   "cell_type": "code",
   "execution_count": 7,
   "metadata": {},
   "outputs": [],
   "source": [
    "# Read the counts.txt as a dataframe\n",
    "shortstack_counts_df = pd.read_csv('/home/administrator/Documents/Kaas/Venom_ncRNA_project/Usable_data/miRanda_mirna_inputs_from_shortstack/2024-5-13_Run/Counts/Counts.txt', sep='\\t')\n",
    "\n",
    "# Rename columns for clarity\n",
    "shortstack_counts_df.columns = ['miRNA Sequence for Counts (Hairpin)', 'miRNA Cluster', 'miRNA Yes or No', 'LVG_2', 'LVG_4', 'LVG_9', 'RVG_12S','RVG_5S', 'RVG_6S', 'RVG_7S']\n",
    "\n",
    "# Filter out rows that do not qualify as miRNAs\n",
    "filtered_shortstack_counts_df = shortstack_counts_df[shortstack_counts_df['miRNA Yes or No'] == 'Y']\n"
   ]
  },
  {
   "cell_type": "code",
   "execution_count": 8,
   "metadata": {},
   "outputs": [],
   "source": [
    "# Merge dfs\n",
    "shortstack_bedtools_miranda_df = pd.merge(bedtools_miRanda_tab_merged_df, filtered_shortstack_counts_df, on='miRNA Cluster', how='inner')\n",
    "\n",
    "# Drop the miRNA Yes or No, Unk1, and Unk3 columns\n",
    "shortstack_bedtools_miranda_df.drop(columns=['miRNA Yes or No', 'Unk1', 'Unk3'], inplace=True)\n",
    "\n",
    "# Drop the rows that are duplicates\n",
    "shortstack_bedtools_miranda_df.drop_duplicates(inplace=True)"
   ]
  },
  {
   "cell_type": "code",
   "execution_count": 9,
   "metadata": {},
   "outputs": [],
   "source": [
    "# Save the data frame\n",
    "shortstack_bedtools_miranda_df.to_csv('/home/administrator/Documents/Kaas/Venom_ncRNA_project/Results/miRanda/miRanda_2024-5-13/CDS_Shortstack_miRanda_bedtoolsintersect_Master.IMPORTANT.2024.5.13.tsv', sep='\\t')"
   ]
  },
  {
   "cell_type": "code",
   "execution_count": 11,
   "metadata": {},
   "outputs": [],
   "source": [
    "# This section is for doing some filtering to create a smaller more useable dataframe file.\n",
    "# Drop a bunch of unessesary columns that I don't need at all\n",
    "filtered_shortstack_bedtools_miranda_df = shortstack_bedtools_miranda_df.drop(columns=['Maturity', 'miRNA Sequence (Mature)', 'miRNA Target Sequence', 'GTF ID Info', 'transcript_id', 'Assembler', 'ID', 'Parent', 'Anolis_Blast_Type', 'Anolis_Homolog', 'Python_Blast_Type', 'Python_Homolog', 'Thamnophis_Blast_Type', 'Thamnophis_Homolog', 'Feature type'])\n",
    "\n",
    "# Save to file\n",
    "filtered_shortstack_bedtools_miranda_df.to_csv('/home/administrator/Documents/Kaas/Venom_ncRNA_project/Results/miRanda/miRanda_2024-5-13/CDS_Column_Filtered_Shortstack_miRanda_bedtoolsintersect_Master.IMPORTANT2024.5.13.tsv', sep='\\t')"
   ]
  }
 ],
 "metadata": {
  "kernelspec": {
   "display_name": "biopython",
   "language": "python",
   "name": "python3"
  },
  "language_info": {
   "codemirror_mode": {
    "name": "ipython",
    "version": 3
   },
   "file_extension": ".py",
   "mimetype": "text/x-python",
   "name": "python",
   "nbconvert_exporter": "python",
   "pygments_lexer": "ipython3",
   "version": "3.12.2"
  }
 },
 "nbformat": 4,
 "nbformat_minor": 2
}
