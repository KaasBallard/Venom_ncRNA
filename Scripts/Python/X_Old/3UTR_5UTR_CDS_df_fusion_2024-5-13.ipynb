{
 "cells": [
  {
   "cell_type": "markdown",
   "metadata": {},
   "source": [
    "Step12\n",
    "Date: May 13, 2024\n",
    "Purpose: The purpose of this script is to fuse the data frames created by fusion files together because I am too lazy to figure out a function that can do all of it in one file.\n",
    "The previous steps in the pipeline are: 3UTR_miranda.tab_bedtools_intersect_fusion_2024-5-13.ipynb (/home/administrator/Documents/Kaas/Venom_ncRNA_project/Scripts/Python/3UTR_miranda.tab_bedtools_intersect_fusion_2024-5-13.ipynb)\n",
    "                                        5UTR_miranda.tab_bedtools_intersect_fusion_2024-5-13.ipynb (/home/administrator/Documents/Kaas/Venom_ncRNA_project/Scripts/Python/5UTR_miranda.tab_bedtools_intersect_fusion_2024-5-13.ipynb)\n",
    "                                        CDS_miranda.tab_bedtools_intersect_fusion_2024-5-13.ipynb (/home/administrator/Documents/Kaas/Venom_ncRNA_project/Scripts/Python/CDS_miranda.tab_bedtools_intersect_fusion_2024-5-13.ipynb)\n",
    "                                        blast_processing_2024-5-13.ipynb (/home/administrator/Documents/Kaas/Venom_ncRNA_project/Scripts/blast/blast_processing_2024-5-13.ipynb)"
   ]
  },
  {
   "cell_type": "code",
   "execution_count": 1,
   "metadata": {},
   "outputs": [],
   "source": [
    "# Import needed packages\n",
    "import pandas as pd"
   ]
  },
  {
   "cell_type": "code",
   "execution_count": 2,
   "metadata": {},
   "outputs": [],
   "source": [
    "# Read the dataframes\n",
    "threeutr_master_df = pd.read_csv('/home/administrator/Documents/Kaas/Venom_ncRNA_project/Results/miRanda/miRanda_2024-5-13/3UTR_Shortstack_miRanda_bedtoolsintersect_Master.IMPORTANT.2024.5.13.tsv', sep='\\t')\n",
    "fiveutr_master_df = pd.read_csv('/home/administrator/Documents/Kaas/Venom_ncRNA_project/Results/miRanda/miRanda_2024-5-13/5UTR_Shortstack_miRanda_bedtoolsintersect_Master.IMPORTANT.2024.5.13.tsv', sep='\\t')\n",
    "cds_master_df = pd.read_csv('/home/administrator/Documents/Kaas/Venom_ncRNA_project/Results/miRanda/miRanda_2024-5-13/CDS_Shortstack_miRanda_bedtoolsintersect_Master.IMPORTANT.2024.5.13.tsv', sep='\\t')\n",
    "\n",
    "# Add 'Origin' column to each dataframe\n",
    "threeutr_master_df['Origin'] = 'three_prime_utr'\n",
    "fiveutr_master_df['Origin'] = 'five_prime_utr'\n",
    "cds_master_df['Origin'] = 'CDS'\n",
    "\n",
    "# Stack the dataframes vertically\n",
    "merged_df = pd.concat([threeutr_master_df, fiveutr_master_df, cds_master_df], ignore_index=True, axis=0)\n",
    "\n",
    "# Reset the index of the merged dataframe\n",
    "merged_df.reset_index(drop=True, inplace=True)"
   ]
  },
  {
   "cell_type": "code",
   "execution_count": 3,
   "metadata": {},
   "outputs": [],
   "source": [
    "# Rename the columns and drop anything I don't need\n",
    "merged_df = merged_df.drop(columns=['Unnamed: 0']).rename(columns=lambda x: x.replace(' ', '.')).rename(columns=lambda x: x.replace('_', '.')).rename(columns={\n",
    "    'miRNA.Sequence.(Mature)': 'miRNA.Sequence.Mature',\n",
    "    'miRNA.Sequence.for.Counts.(Hairpin)': 'miRNA.Sequence.for.Counts.Hairpin',\n",
    "    'RVG.5S': 'miRNA.Counts.RVG.5S.CV1087.viridis.North.F', 'RVG.6S': 'miRNA.Counts.RVG.6S.CV0987.lutosus.Other.M', 'RVG.7S': 'miRNA.Counts.RVG.7S.CV0985.concolor.Other.F', 'RVG.12S': 'miRNA.Counts.RVG.12S.CV1082.viridis.South.M',\n",
    "    'LVG.2': 'miRNA.Counts.LVG.2.CV1081.viridis.Mid.M', 'LVG.4': 'miRNA.Counts.LVG.4.CV0857.viridis.North.M', 'LVG.9': 'miRNA.Counts.LVG.9.CV1086.viridis.South.M'\n",
    "})"
   ]
  },
  {
   "cell_type": "code",
   "execution_count": 4,
   "metadata": {},
   "outputs": [],
   "source": [
    "# Save the merged dataframe\n",
    "merged_df.to_csv('/home/administrator/Documents/Kaas/Venom_ncRNA_project/Results/miRanda/miRanda_2024-5-13/miRNA_Merged_Master.2024.5.13.tsv', sep='\\t')"
   ]
  },
  {
   "cell_type": "code",
   "execution_count": 5,
   "metadata": {},
   "outputs": [],
   "source": [
    "# Read the dataframes\n",
    "threeutr_column_reduced_df = pd.read_csv('/home/administrator/Documents/Kaas/Venom_ncRNA_project/Results/miRanda/miRanda_2024-5-13/3UTR_Column_Filtered_Shortstack_miRanda_bedtoolsintersect_Master.IMPORTANT.2024.5.13.tsv', sep='\\t')\n",
    "fiveutr_column_reduced_df = pd.read_csv('/home/administrator/Documents/Kaas/Venom_ncRNA_project/Results/miRanda/miRanda_2024-5-13/5UTR_Column_Filtered_Shortstack_miRanda_bedtoolsintersect_Master.IMPORTANT.2024.5.13.tsv', sep='\\t')\n",
    "cds_column_reduced_df = pd.read_csv('/home/administrator/Documents/Kaas/Venom_ncRNA_project/Results/miRanda/miRanda_2024-5-13/CDS_Column_Filtered_Shortstack_miRanda_bedtoolsintersect_Master.IMPORTANT2024.5.13.tsv', sep='\\t')\n",
    "\n",
    "# Add 'Origin' column to each dataframe\n",
    "threeutr_column_reduced_df['Origin'] = 'three_prime_utr'\n",
    "fiveutr_column_reduced_df['Origin'] = 'five_prime_utr'\n",
    "cds_column_reduced_df['Origin'] = 'CDS'\n",
    "\n",
    "# Stack the dataframes vertically\n",
    "column_reduced_merged_df = pd.concat([threeutr_column_reduced_df, fiveutr_column_reduced_df, cds_column_reduced_df], ignore_index=True, axis=0)\n",
    "\n",
    "# Reset the index of the merged dataframe\n",
    "column_reduced_merged_df.reset_index(drop=True, inplace=True)"
   ]
  },
  {
   "cell_type": "code",
   "execution_count": 6,
   "metadata": {},
   "outputs": [],
   "source": [
    "# Rename and drop anything I don't need\n",
    "column_reduced_merged_df = column_reduced_merged_df.drop(columns=['Unnamed: 0']).rename(columns=lambda x: x.replace(' ', '.')).rename(columns=lambda x: x.replace('_', '.')).rename(columns={\n",
    "   'miRNA.Sequence.for.Counts.(Hairpin)': 'miRNA.Sequence.for.Counts.Hairpin',\n",
    "   'RVG.5S': 'miRNA.Counts.RVG.5S.CV1087.viridis.North.F', 'RVG.6S': 'miRNA.Counts.RVG.6S.CV0987.lutosus.Other.M', 'RVG.7S': 'miRNA.Counts.RVG.7S.CV0985.concolor.Other.F', 'RVG.12S': 'miRNA.Counts.RVG.12S.CV1082.viridis.South.M',\n",
    "   'LVG.2': 'miRNA.Counts.LVG.2.CV1081.viridis.Mid.M', 'LVG.4': 'miRNA.Counts.LVG.4.CV0857.viridis.North.M', 'LVG.9': 'miRNA.Counts.LVG.9.CV1086.viridis.South.M'\n",
    "})"
   ]
  },
  {
   "cell_type": "code",
   "execution_count": 7,
   "metadata": {},
   "outputs": [],
   "source": [
    "# Print the merged dataframe\n",
    "column_reduced_merged_df.to_csv('/home/administrator/Documents/Kaas/Venom_ncRNA_project/Results/miRanda/miRanda_2024-5-13/miRNA_Merged_Column_Filtered.2024.5.13.tsv', sep='\\t')"
   ]
  }
 ],
 "metadata": {
  "kernelspec": {
   "display_name": "biopython",
   "language": "python",
   "name": "python3"
  },
  "language_info": {
   "codemirror_mode": {
    "name": "ipython",
    "version": 3
   },
   "file_extension": ".py",
   "mimetype": "text/x-python",
   "name": "python",
   "nbconvert_exporter": "python",
   "pygments_lexer": "ipython3",
   "version": "3.12.2"
  }
 },
 "nbformat": 4,
 "nbformat_minor": 2
}
